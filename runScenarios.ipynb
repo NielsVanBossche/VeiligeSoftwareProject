{
 "cells": [
  {
   "cell_type": "code",
   "execution_count": 2,
   "metadata": {},
   "outputs": [],
   "source": [
    "import paramiko\n",
    "import time\n",
    "import os\n",
    "\n",
    "ROOT_DIR = \"secure-software-and-hacking-assignment\"\n",
    "USERNAME = \"osboxes\"\n",
    "PASS = \"osboxes.org\"\n",
    "IP = \"localhost\"\n",
    "PORT = 2222"
   ]
  },
  {
   "cell_type": "code",
   "execution_count": null,
   "metadata": {},
   "outputs": [],
   "source": [
    "# SCENARIO 1\n",
    "\n",
    "ssh = paramiko.SSHClient()\n",
    "ssh.set_missing_host_key_policy(paramiko.AutoAddPolicy())\n",
    "ssh.connect(IP, port=PORT, username=USERNAME, password=PASS)\n",
    "\n",
    "commands = [\n",
    "    'cd ./secure-software-and-hacking-assignment/',\n",
    "    'cd ./server/',\n",
    "    f'echo {PASS} | sudo -S ./launch_scenario 1',\n",
    "    'cd ..',\n",
    "    f'echo {PASS} | sudo -S cp -r ./keylogger/target/debug/keylogger ./server/server_data/'\n",
    "]\n",
    "\n",
    "# Start an interactive shell\n",
    "shell = ssh.invoke_shell()\n",
    "\n",
    "for command in commands:\n",
    "    # Send the command to the shell\n",
    "    shell.send(command + '\\n')\n",
    "\n",
    "    # Wait for the command to finish\n",
    "    while not shell.recv_ready():\n",
    "        time.sleep(1)\n",
    "\n",
    "    # Print the output\n",
    "    output = shell.recv(1024).decode()\n",
    "    print(output)\n",
    "\n",
    "# New code to continuously print incoming data\n",
    "while True:\n",
    "    if shell.recv_ready():\n",
    "        # Print the output\n",
    "        output = shell.recv(1024).decode(errors='ignore')\n",
    "        print(output)\n",
    "    time.sleep(1)"
   ]
  },
  {
   "cell_type": "code",
   "execution_count": null,
   "metadata": {},
   "outputs": [],
   "source": [
    "# SCENARIO 2\n",
    "\n",
    "ssh = paramiko.SSHClient()\n",
    "ssh.set_missing_host_key_policy(paramiko.AutoAddPolicy())\n",
    "ssh.connect(IP, port=PORT, username=USERNAME, password=PASS)"
   ]
  },
  {
   "cell_type": "code",
   "execution_count": null,
   "metadata": {},
   "outputs": [],
   "source": [
    "# SCENARIO 3\n",
    "\n",
    "ssh = paramiko.SSHClient()\n",
    "ssh.set_missing_host_key_policy(paramiko.AutoAddPolicy())\n",
    "ssh.connect(IP, port=PORT, username=USERNAME, password=PASS)\n",
    "\n",
    "\n",
    "# gdb ./server_sc3\n",
    "# layout asm\n",
    "# run\n",
    "# break log_message\n",
    "\n",
    "# Run python code inside other terminal"
   ]
  },
  {
   "cell_type": "code",
   "execution_count": null,
   "metadata": {},
   "outputs": [],
   "source": []
  }
 ],
 "metadata": {
  "kernelspec": {
   "display_name": "Python 3",
   "language": "python",
   "name": "python3"
  },
  "language_info": {
   "codemirror_mode": {
    "name": "ipython",
    "version": 3
   },
   "file_extension": ".py",
   "mimetype": "text/x-python",
   "name": "python",
   "nbconvert_exporter": "python",
   "pygments_lexer": "ipython3",
   "version": "3.12.0"
  }
 },
 "nbformat": 4,
 "nbformat_minor": 2
}
